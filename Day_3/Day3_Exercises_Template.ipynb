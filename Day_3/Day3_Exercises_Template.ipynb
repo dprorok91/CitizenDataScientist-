{
 "cells": [
  {
   "cell_type": "markdown",
   "id": "2e2c6a51",
   "metadata": {},
   "source": [
    "## 1. Regression with Diabetes Dataset\n",
    "\n",
    "In this section, we'll explore simple regression models using the diabetes dataset. Start by loading the dataset and training a linear model."
   ]
  },
  {
   "cell_type": "code",
   "execution_count": null,
   "id": "4fa5f6aa",
   "metadata": {},
   "outputs": [],
   "source": [
    "# TODO: Load the diabetes dataset\n",
    "import pandas as pd\n",
    "\n",
    "# df = pd.read_csv('...')"
   ]
  },
  {
   "cell_type": "code",
   "execution_count": null,
   "id": "01fb1d59",
   "metadata": {},
   "outputs": [],
   "source": [
    "# TODO: Fit LinearRegression and print coefficients\n",
    "from sklearn.linear_model import LinearRegression\n",
    "# model = LinearRegression()\n",
    "# model.fit(...)\n",
    "# print(model.coef_)"
   ]
  },
  {
   "cell_type": "code",
   "execution_count": null,
   "id": "01e28c0e",
   "metadata": {},
   "outputs": [],
   "source": [
    "# TODO: Plot predicted vs actual\n",
    "import matplotlib.pyplot as plt\n",
    "# plt.scatter(...)\n",
    "# plt.show()"
   ]
  },
  {
   "cell_type": "markdown",
   "id": "ba58349e",
   "metadata": {},
   "source": [
    "Train and evaluate a Decision Tree Regressor. Compare its performance to linear regression."
   ]
  },
  {
   "cell_type": "code",
   "execution_count": null,
   "id": "95aa5ac8",
   "metadata": {},
   "outputs": [],
   "source": [
    "# TODO: Train a DecisionTreeRegressor\n",
    "from sklearn.tree import DecisionTreeRegressor\n",
    "# tree = DecisionTreeRegressor()\n",
    "# tree.fit(...)\n",
    "# tree_preds = tree.predict(...)"
   ]
  },
  {
   "cell_type": "code",
   "execution_count": null,
   "id": "2eac831f",
   "metadata": {},
   "outputs": [],
   "source": [
    "# TODO: Visualize model performance vs actual\n",
    "# plt.scatter(...)\n",
    "# plt.show()"
   ]
  },
  {
   "cell_type": "markdown",
   "id": "e38292ab",
   "metadata": {},
   "source": [
    "## 2. Feature Engineering and Feature Selection\n",
    "We'll start Day 3 by building and selecting useful features to improve model performance."
   ]
  },
  {
   "cell_type": "markdown",
   "id": "eae73139",
   "metadata": {},
   "source": [
    "### Feature Engineering Techniques\n",
    "Try the following features:\n",
    "- Polynomial features\n",
    "- Interaction features\n",
    "- Binning\n",
    "- Log transforms\n",
    "- Scaling/standardization"
   ]
  },
  {
   "cell_type": "code",
   "execution_count": null,
   "id": "417114fb",
   "metadata": {},
   "outputs": [],
   "source": [
    "# TODO: Create polynomial and interaction features\n",
    "# diabetes['bmi_squared'] = ???\n",
    "# diabetes['bp_age'] = ???"
   ]
  },
  {
   "cell_type": "code",
   "execution_count": null,
   "id": "13de5eb9",
   "metadata": {},
   "outputs": [],
   "source": [
    "# TODO: Create binned feature and log-transform\n",
    "# diabetes['age_bin'] = pd.cut(...)\n",
    "# diabetes['log_s1'] = np.log1p(diabetes['s1'])"
   ]
  },
  {
   "cell_type": "markdown",
   "id": "39555b1e",
   "metadata": {},
   "source": [
    "### Feature Selection Techniques\n",
    "Apply at least three techniques below:\n",
    "- Feature importance from tree-based models\n",
    "- Recursive Feature Elimination (RFE)\n",
    "- SelectKBest with f_regression"
   ]
  },
  {
   "cell_type": "code",
   "execution_count": null,
   "id": "b0f808ca",
   "metadata": {},
   "outputs": [],
   "source": [
    "# TODO: Use feature_importances_ from RandomForestRegressor\n",
    "# and visualize using seaborn barplot"
   ]
  },
  {
   "cell_type": "code",
   "execution_count": null,
   "id": "37467a67",
   "metadata": {},
   "outputs": [],
   "source": [
    "# TODO: Apply RFE with LinearRegression\n",
    "# from sklearn.feature_selection import RFE"
   ]
  },
  {
   "cell_type": "code",
   "execution_count": null,
   "id": "2b0c8a75",
   "metadata": {},
   "outputs": [],
   "source": [
    "# TODO: Use SelectKBest with f_regression\n",
    "# from sklearn.feature_selection import SelectKBest, f_regression"
   ]
  },
  {
   "cell_type": "markdown",
   "id": "92eb6ae8",
   "metadata": {},
   "source": [
    "## 🧪 Model Validation and Overfitting Awareness"
   ]
  },
  {
   "cell_type": "markdown",
   "id": "6f1fb03d",
   "metadata": {},
   "source": [
    "To avoid overfitting, we need to split our data into **training and testing sets**.\n",
    "We'll also use **cross-validation** and **feature selection** to compare models:\n",
    "\n",
    "- Full feature set vs. selected features\n",
    "- Cross-validated scores vs. train-only accuracy\n",
    "- Hyperparameter tuning with GridSearchCV"
   ]
  },
  {
   "cell_type": "code",
   "execution_count": null,
   "id": "c91afb89",
   "metadata": {},
   "outputs": [],
   "source": [
    "# TODO: Split dataset\n",
    "# from sklearn.model_selection import train_test_split\n",
    "# X_train, X_test, y_train, y_test = train_test_split(...)\n"
   ]
  },
  {
   "cell_type": "code",
   "execution_count": null,
   "id": "0ea6f12a",
   "metadata": {},
   "outputs": [],
   "source": [
    "# TODO: Fit DecisionTreeRegressor on train data and evaluate on test set\n",
    "# Print R² on both train and test sets"
   ]
  },
  {
   "cell_type": "code",
   "execution_count": null,
   "id": "c6c08e3c",
   "metadata": {},
   "outputs": [],
   "source": [
    "# TODO: Apply cross_val_score to DecisionTreeRegressor using full features\n",
    "# Compare to training score"
   ]
  },
  {
   "cell_type": "code",
   "execution_count": null,
   "id": "f634fad6",
   "metadata": {},
   "outputs": [],
   "source": [
    "# TODO: Use SelectKBest or RFE to find best features\n",
    "# Train model again with reduced features and cross-validation"
   ]
  },
  {
   "cell_type": "code",
   "execution_count": null,
   "id": "4ef00a8d",
   "metadata": {},
   "outputs": [],
   "source": [
    "# TODO: Use GridSearchCV to tune parameters of DecisionTreeRegressor\n",
    "# Compare best estimator performance"
   ]
  },
  {
   "cell_type": "markdown",
   "id": "c1060c54",
   "metadata": {},
   "source": [
    "## 3. Ensemble Methods: Random Forest and Gradient Boosting\n",
    "\n",
    "Now we'll apply ensemble models like Random Forest and Gradient Boosting to the same data."
   ]
  },
  {
   "cell_type": "code",
   "execution_count": null,
   "id": "c21d1269",
   "metadata": {},
   "outputs": [],
   "source": [
    "# TODO: Train RandomForestRegressor and evaluate\n",
    "from sklearn.ensemble import RandomForestRegressor\n",
    "# rf = RandomForestRegressor()\n",
    "# rf.fit(...)\n",
    "# rf_preds = rf.predict(...)"
   ]
  },
  {
   "cell_type": "code",
   "execution_count": null,
   "id": "ee73f9e9",
   "metadata": {},
   "outputs": [],
   "source": [
    "# TODO: Train GradientBoostingRegressor and evaluate\n",
    "from sklearn.ensemble import GradientBoostingRegressor\n",
    "# gb = GradientBoostingRegressor()\n",
    "# gb.fit(...)\n",
    "# gb_preds = gb.predict(...)"
   ]
  },
  {
   "cell_type": "markdown",
   "id": "980eead4",
   "metadata": {},
   "source": [
    "## 4. Evaluation Metrics\n",
    "\n",
    "Compare models using MSE, MAE, and R². Use the predictions from previous sections."
   ]
  },
  {
   "cell_type": "code",
   "execution_count": null,
   "id": "7884bb93",
   "metadata": {},
   "outputs": [],
   "source": [
    "# TODO: Calculate metrics\n",
    "from sklearn.metrics import mean_squared_error, mean_absolute_error, r2_score\n",
    "# print('MSE:', ...)\n",
    "# print('R²:', ...)"
   ]
  },
  {
   "cell_type": "markdown",
   "id": "60e0c7c4",
   "metadata": {},
   "source": [
    "## 5. Ensemble Classification (Wine Dataset)\n",
    "\n",
    "Use Random Forest and Gradient Boosting Classifiers on the wine dataset. Evaluate with accuracy and confusion matrix."
   ]
  },
  {
   "cell_type": "code",
   "execution_count": null,
   "id": "61ca9e55",
   "metadata": {},
   "outputs": [],
   "source": [
    "# TODO: Load wine dataset and train-test split\n",
    "wine = pd.read_csv('...')"
   ]
  },
  {
   "cell_type": "code",
   "execution_count": null,
   "id": "7c8b7774",
   "metadata": {},
   "outputs": [],
   "source": [
    "# TODO: Train RandomForestClassifier and evaluate"
   ]
  },
  {
   "cell_type": "code",
   "execution_count": null,
   "id": "e1c92a86",
   "metadata": {},
   "outputs": [],
   "source": [
    "# TODO: Train GradientBoostingClassifier and evaluate"
   ]
  }
 ],
 "metadata": {
  "language_info": {
   "name": "python"
  }
 },
 "nbformat": 4,
 "nbformat_minor": 5
}
