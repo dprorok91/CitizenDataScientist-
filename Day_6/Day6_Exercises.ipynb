{
 "cells": [
  {
   "cell_type": "markdown",
   "id": "a6bab4ea",
   "metadata": {},
   "source": [
    "# Day 5: Time Series Forecasting - ARIMA & XGBoost"
   ]
  },
  {
   "cell_type": "markdown",
   "id": "c08a01ef",
   "metadata": {},
   "source": [
    "## Section 1: Classical Forecasting - ARIMA\n",
    "### Autocorrelation (ACF) and Partial Autocorrelation (PACF)\n",
    "These help identify the lag structure of the time series.\n",
    "- ACF shows correlation between the time series and its lags.\n",
    "- PACF controls for indirect effects.\n",
    "\n",
    "Plot ACF and PACF for the Airline dataset."
   ]
  },
  {
   "cell_type": "code",
   "execution_count": null,
   "id": "127bc253",
   "metadata": {},
   "outputs": [],
   "source": [
    "# TODO: plot ACF and PACF"
   ]
  },
  {
   "cell_type": "markdown",
   "id": "f2ae8726",
   "metadata": {},
   "source": [
    "### Fit an ARIMA model\n",
    "Use statsmodels to fit an ARIMA(p,d,q) model."
   ]
  },
  {
   "cell_type": "code",
   "execution_count": null,
   "id": "e9b02b61",
   "metadata": {},
   "outputs": [],
   "source": [
    "# TODO: Fit ARIMA model here"
   ]
  },
  {
   "cell_type": "markdown",
   "id": "d18fb857",
   "metadata": {},
   "source": [
    "### Residual Diagnostics\n",
    "Plot residuals and check for white noise behavior."
   ]
  },
  {
   "cell_type": "code",
   "execution_count": null,
   "id": "742aae2b",
   "metadata": {},
   "outputs": [],
   "source": [
    "# TODO: Plot ARIMA residuals"
   ]
  },
  {
   "cell_type": "markdown",
   "id": "2a2daf9c",
   "metadata": {},
   "source": [
    "## Section 2: Forecasting with XGBoost\n",
    "We will create lag features and use XGBoost to predict the time series."
   ]
  },
  {
   "cell_type": "code",
   "execution_count": null,
   "id": "e6a70c2a",
   "metadata": {},
   "outputs": [],
   "source": [
    "# TODO: Create features and train XGBoost model"
   ]
  },
  {
   "cell_type": "markdown",
   "id": "d54fb643",
   "metadata": {},
   "source": [
    "### Limitations of ML Forecasting\n",
    "Model will fail to predict values far beyond the observed range and flattens predictions"
   ]
  },
  {
   "cell_type": "markdown",
   "id": "18d9a87b",
   "metadata": {},
   "source": [
    "### Time Series Split for Forecasting\n",
    "Use `TimeSeriesSplit` to ensure training always precedes testing."
   ]
  },
  {
   "cell_type": "code",
   "execution_count": null,
   "id": "52d8e89e",
   "metadata": {},
   "outputs": [],
   "source": [
    "# TODO: Use TimeSeriesSplit to evaluate forecasting model"
   ]
  },
  {
   "cell_type": "markdown",
   "id": "0b0c88c1",
   "metadata": {},
   "source": [
    "### ⏳ Time Series Splitting with sktime\n",
    "Use sktime's `SlidingWindowSplitter` and `ExpandingWindowSplitter` to generate realistic train/test splits for forecasting."
   ]
  },
  {
   "cell_type": "code",
   "execution_count": null,
   "id": "c6e8d333",
   "metadata": {},
   "outputs": [],
   "source": [
    "# TODO: Use SlidingWindowSplitter from sktime to evaluate model performance step-by-step"
   ]
  }
 ],
 "metadata": {
  "language_info": {
   "name": "python"
  }
 },
 "nbformat": 4,
 "nbformat_minor": 5
}
