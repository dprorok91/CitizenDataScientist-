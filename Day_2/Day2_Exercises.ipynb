{
  "cells": [
    {
      "cell_type": "markdown",
      "id": "f8a94829",
      "metadata": {},
      "source": [
        "## 1. Classification with Wine Dataset\n",
        "\n",
        "In this section we explore classification techniques using the Wine dataset."
      ]
    },
    {
      "cell_type": "code",
      "execution_count": null,
      "id": "90d9a6d5",
      "metadata": {},
      "outputs": [],
      "source": [
        "# TODO: Load the Wine dataset using sklearn and convert to pandas DataFrame. \n",
        "from sklearn.datasets import load_wine\n",
        "import pandas as pd\n",
        "\n",
        "wine = load_wine(as_frame=True)\n",
        "\n",
        "#Hint: Check wine.data, wine.target, new fuction for combining data .concat form pandas"
      ]
    },
    {
      "cell_type": "code",
      "execution_count": null,
      "id": "db007522",
      "metadata": {},
      "outputs": [],
      "source": [
        "# TODO: Print the count of each class\n",
        "#Hist: .value_counts()"
      ]
    },
    {
      "cell_type": "code",
      "execution_count": null,
      "id": "5ce1d08a",
      "metadata": {},
      "outputs": [],
      "source": [
        "# TODO: Print the information about the data - descriptive statistics\n",
        "# Hint: There is a specific function for that"
      ]
    },
    {
      "cell_type": "code",
      "execution_count": null,
      "id": "66ec81f4",
      "metadata": {},
      "outputs": [],
      "source": [
        "# TODO: Split data into train and test sets. Use stratified sampling. The typical split is 20% test, 80% train, why setting random state is important?\n",
        "from sklearn.model_selection import train_test_split"
      ]
    },
    {
      "cell_type": "code",
      "execution_count": null,
      "id": "8c0d49ed",
      "metadata": {},
      "outputs": [],
      "source": [
        "# TODO: Train two Decision Trees with Gini and Entropy. Print accuracy. (compare accuracy on train set and test set)\n",
        "from sklearn.tree import DecisionTreeClassifier\n",
        "from sklearn.metrics import accuracy_score"
      ]
    },
    {
      "cell_type": "code",
      "execution_count": null,
      "id": "a9d83c37",
      "metadata": {},
      "outputs": [],
      "source": [
        "# TODO: Plot feature importances for Entropy-based tree. Use .feature_importances_ from decision tree classifier and barplot from seaborn\n",
        "import matplotlib.pyplot as plt\n",
        "import seaborn as sns"
      ]
    },
    {
      "cell_type": "code",
      "execution_count": null,
      "id": "52d40e95",
      "metadata": {},
      "outputs": [],
      "source": [
        "# TODO: Train KNN and SVM classifiers and compare accuracy, precision, recall.\n",
        "from sklearn.neighbors import KNeighborsClassifier\n",
        "from sklearn.svm import SVC\n",
        "from sklearn.metrics import classification_report"
      ]
    },
    {
      "cell_type": "code",
      "execution_count": null,
      "id": "5c61a303",
      "metadata": {},
      "outputs": [],
      "source": [
        "# TODO: Plot confusion matrix for SVM model.\n",
        "from sklearn.metrics import ConfusionMatrixDisplay"
      ]
    },
    {
      "cell_type": "code",
      "execution_count": null,
      "id": "7a774556",
      "metadata": {},
      "outputs": [],
      "source": [
        "# TODO: Build sklearn pipeline with StandardScaler + SVM. Evaluate results.\n",
        "from sklearn.pipeline import Pipeline\n",
        "from sklearn.preprocessing import StandardScaler\n",
        "\n",
        "# Hint: pileine needs list of steps, for example step can be ('svc', SVC(kernel='rbf'))"
      ]
    },
    {
      "cell_type": "markdown",
      "id": "3fa81855",
      "metadata": {},
      "source": [
        "## 2. Anomaly Detection with Mammographic Mass Dataset\n",
        "\n",
        "Explore anomaly detection methods on medical data."
      ]
    },
    {
      "cell_type": "code",
      "execution_count": null,
      "id": "17b302c5",
      "metadata": {},
      "outputs": [],
      "source": [
        "# TODO: Fetch and prepare Mammographic Mass dataset using ucimlrepo. Rename Severity to 'is_anomaly' and cast it to integer type\n",
        "from ucimlrepo import fetch_ucirepo\n",
        "\n",
        "ds = fetch_ucirepo(id=161) \n",
        "df = ds.data.original.copy()\n",
        "\n",
        "\n"
      ]
    },
    {
      "cell_type": "code",
      "execution_count": null,
      "id": "305bc973",
      "metadata": {},
      "outputs": [],
      "source": [
        "import pandas as pd\n",
        "import numpy as np\n",
        "\n",
        "malignat_idx = (df['is_anomaly']==1)\n",
        "\n",
        "# Example: a Series with ~50% True\n",
        "np.random.seed(42)\n",
        "\n",
        "# Target: keep only ~4% of True values\n",
        "true_indices = malignat_idx[malignat_idx].index\n",
        "n_keep = int(len(malignat_idx) * 0.04)  # target 4% of total\n",
        "keep_indices = np.random.choice(true_indices, size=n_keep, replace=False)\n",
        "\n",
        "# Set all True to False, then restore only the kept ones\n",
        "malignat_reduced = pd.Series(False, index=malignat_idx.index)\n",
        "malignat_reduced.loc[keep_indices] = True\n",
        "\n",
        "resampled_idx = malignat_reduced | (df['is_anomaly']==0)\n",
        "df = df[resampled_idx]"
      ]
    },
    {
      "cell_type": "code",
      "execution_count": null,
      "id": "fb573540",
      "metadata": {},
      "outputs": [],
      "source": [
        "# TODO: Use z-score to detect anomalies on Age and Shape columns.\n",
        "from scipy.stats import zscore\n",
        "\n",
        "# Question: how to determie anomaly based on two colummns"
      ]
    },
    {
      "cell_type": "code",
      "execution_count": null,
      "id": "e34b5a34",
      "metadata": {},
      "outputs": [],
      "source": [
        "# TODO: Use Isolation Forest for anomaly detection.\n",
        "from sklearn.ensemble import IsolationForest\n",
        "\n",
        "# Hint: Isolation forest returns {-1,1} anomanlies ase in is anomally column are {0,1} we need to .map using dictionary What is right way to mapping?"
      ]
    },
    {
      "cell_type": "code",
      "execution_count": null,
      "id": "89ac8d62",
      "metadata": {},
      "outputs": [],
      "source": [
        "# TODO: Train One-Class SVM and compare predictions.\n",
        "from sklearn.metrics import precision_score, recall_score"
      ]
    },
    {
      "cell_type": "code",
      "execution_count": null,
      "id": "c7517641",
      "metadata": {},
      "outputs": [],
      "source": [
        "# TODO: Compute and compare anomaly detection performance using precision and recall.\n",
        "from sklearn.metrics import precision_score, recall_score"
      ]
    },
    {
      "cell_type": "code",
      "execution_count": null,
      "id": "ab408fc8",
      "metadata": {},
      "outputs": [],
      "source": [
        "# TODO: Visualize outliers using scatter plot for 'Age' vs 'Shape'. Do a pairplot of all numeric features"
      ]
    },
    {
      "cell_type": "code",
      "execution_count": null,
      "id": "e7b7c944",
      "metadata": {},
      "outputs": [],
      "source": [
        "# TODO: Fix the bug: improper threshold for z-score based anomaly detection."
      ]
    },
    {
      "cell_type": "code",
      "execution_count": null,
      "id": "56080249",
      "metadata": {},
      "outputs": [],
      "source": [
        "# TODO Select 15 most anomanlus records based on z-scores"
      ]
    }
  ],
  "metadata": {
    "language_info": {
      "name": "python"
    }
  },
  "nbformat": 4,
  "nbformat_minor": 5
}
