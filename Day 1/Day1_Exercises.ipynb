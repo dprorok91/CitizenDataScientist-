{
 "cells": [
  {
   "cell_type": "markdown",
   "id": "3b962c7c",
   "metadata": {},
   "source": [
    "## 0. Python & Pandas Data Types\n",
    "Explore different data types and fix common issues."
   ]
  },
  {
   "cell_type": "code",
   "execution_count": null,
   "id": "0a211c1f",
   "metadata": {},
   "outputs": [],
   "source": [
    "# Exercise 0.1: Identify types\n",
    "a = [1, 2, 3]\n",
    "b = {'key': 10}\n",
    "c = (4.5, True)\n",
    "d = set([1, 2, 2])\n",
    "e = None\n",
    "\n"
   ]
  },
  {
   "cell_type": "code",
   "execution_count": null,
   "id": "88bc1e28",
   "metadata": {},
   "outputs": [],
   "source": [
    "# Exercise 0.2: Create Series from each and inspect dtype\n",
    "import pandas as pd\n",
    "\n",
    "\n"
   ]
  },
  {
   "cell_type": "code",
   "execution_count": null,
   "id": "f1eca01b",
   "metadata": {},
   "outputs": [],
   "source": [
    "# Exercise 0.3: Fix the conversion error\n",
    "df = pd.DataFrame({'col': ['1', '2', 'three', '4']})\n",
    "# Convert to integer, coerce errors to NaN\n",
    "# SOLUTION: Fix this line\n",
    "df['col'] = pd.to_numeric(df['col'])\n"
   ]
  },
  {
   "cell_type": "markdown",
   "id": "9c1168ec",
   "metadata": {},
   "source": [
    "## 1. Load & Clean Dataset\n",
    "Read the dataset, check for missing values, and standardize column names."
   ]
  },
  {
   "cell_type": "code",
   "execution_count": null,
   "id": "4312b2d2",
   "metadata": {},
   "outputs": [],
   "source": [
    "# Exercise 1.1: Load Superstore.csv dataset and display info"
   ]
  },
  {
   "cell_type": "code",
   "execution_count": null,
   "id": "38e0cbcf",
   "metadata": {},
   "outputs": [],
   "source": [
    "# Exercise 1.2: Clean column names to snake_case \n",
    "def clean_columns(columns):\n",
    "    pass\n",
    "    \n",
    "# Apply this to df.columns\n"
   ]
  },
  {
   "cell_type": "code",
   "execution_count": null,
   "id": "3076a237",
   "metadata": {},
   "outputs": [],
   "source": [
    "# Exercise 1.3: Check and report missing values\n"
   ]
  },
  {
   "cell_type": "markdown",
   "id": "59647cff",
   "metadata": {},
   "source": [
    "## 2. Pivot and Unpivot\n",
    "Practice reshaping data for reporting."
   ]
  },
  {
   "cell_type": "code",
   "execution_count": null,
   "id": "e68213f9",
   "metadata": {},
   "outputs": [],
   "source": [
    "# Exercise 2.1: Create pivot table of Sales by Region and Category (fix)\n",
    "GROUPER_COLUMN = 'Category'\n",
    "#Hint: https://pandas.pydata.org/docs/reference/api/pandas.pivot_table.html\n",
    "pivot = pd.pivot_table(df, values='Sales', index='Region')\n",
    "print(pivot)"
   ]
  },
  {
   "cell_type": "code",
   "execution_count": null,
   "id": "1eab979f",
   "metadata": {},
   "outputs": [],
   "source": [
    "# Exercise 2.2: Unpivot the table using pd.melt\n",
    "# Hint: Use function melt\n"
   ]
  },
  {
   "cell_type": "code",
   "execution_count": null,
   "id": "ed84700c",
   "metadata": {},
   "outputs": [],
   "source": [
    "# Exercise 2.3: Debug this code\n",
    "# This line raises an error. Fix it.\n",
    "# pivot = df.pivot(index='Category', columns='Region', values='Sales', aggfunc='sum')\n"
   ]
  },
  {
   "cell_type": "markdown",
   "id": "7a22442f",
   "metadata": {},
   "source": [
    "## 3. Grouping, Aggregation and Merging\n",
    "Group, summarize, and merge statistics."
   ]
  },
  {
   "cell_type": "code",
   "execution_count": null,
   "id": "69fc013e",
   "metadata": {},
   "outputs": [],
   "source": [
    "# Exercise 3.1: Group by Category, aggregate Sales, Profit, Quantity\n",
    "# SOLHintION: Use .groupby and .agg (with dictorary of aggregation metrics)"
   ]
  },
  {
   "cell_type": "code",
   "execution_count": null,
   "id": "805e51f5",
   "metadata": {},
   "outputs": [],
   "source": [
    "# Exercise 3.2: What percenatce of all Technology orders is order with ID CA-1000 (in terms of quantity)\n",
    "# Hint: Use .merge and and results of 3.1\n"
   ]
  },
  {
   "cell_type": "code",
   "execution_count": null,
   "id": "6c025e7a",
   "metadata": {},
   "outputs": [],
   "source": [
    "# Exercise 3.3: Write a function that takes a dataframe and returns group statistics by a column (this is argument) - apply this function to sales\n"
   ]
  },
  {
   "cell_type": "code",
   "execution_count": null,
   "id": "b0d1f5fc",
   "metadata": {},
   "outputs": [],
   "source": [
    "# Exercise 3.4: Create a histogram for results from 3.2"
   ]
  },
  {
   "cell_type": "markdown",
   "id": "d3d8da9e",
   "metadata": {},
   "source": [
    "## 4. Outlier Detection\n",
    "Use z-scores and visualizations to detect outliers."
   ]
  },
  {
   "cell_type": "code",
   "execution_count": null,
   "id": "3461558f",
   "metadata": {},
   "outputs": [],
   "source": [
    "# Exercise 4.1: Add z-score column for Profit and flag |z| > 3\n",
    "# Hint: Use scipy.stats.zscore\n"
   ]
  },
  {
   "cell_type": "code",
   "execution_count": null,
   "id": "449e551d",
   "metadata": {},
   "outputs": [],
   "source": [
    "# Exercise 4.2: Plot histogram with outliers\n",
    "# SOLUTION: Use matplotlib to color outliers differently\n"
   ]
  },
  {
   "cell_type": "code",
   "execution_count": null,
   "id": "9f89a43e",
   "metadata": {},
   "outputs": [],
   "source": [
    "# Exercise 4.3: Debug this broken outlier logic\n",
    "df['Profit_z'] = (df['Profit'] - df .mean()) / df .std()  # Fix it\n"
   ]
  },
  {
   "cell_type": "code",
   "execution_count": null,
   "id": "073d8707",
   "metadata": {},
   "outputs": [],
   "source": [
    "# Exercise 4.4: Calculate z-score for 'Profit' within each Category and Region group\n",
    "# Hint: .transform and lambda function\n"
   ]
  },
  {
   "cell_type": "code",
   "execution_count": null,
   "id": "b33942d3",
   "metadata": {},
   "outputs": [],
   "source": [
    "# Exercise 4.5: Use seaborn to create a pairplot of numeric variables"
   ]
  },
  {
   "cell_type": "markdown",
   "id": "14067a58",
   "metadata": {},
   "source": [
    "## 5. Time Series Resampling\n",
    "Resample to monthly level and visualize."
   ]
  },
  {
   "cell_type": "code",
   "execution_count": null,
   "id": "55b83e68",
   "metadata": {},
   "outputs": [],
   "source": [
    "# Exercise 5.1: Convert 'Order Date' to datetime and set as index\n"
   ]
  },
  {
   "cell_type": "code",
   "execution_count": null,
   "id": "69b79925",
   "metadata": {},
   "outputs": [],
   "source": [
    "# Exercise 5.2: Resample sales monthly and fill missing\n",
    "# Hint: Use resample"
   ]
  },
  {
   "cell_type": "code",
   "execution_count": null,
   "id": "e5a6369f",
   "metadata": {},
   "outputs": [],
   "source": [
    "# Exercise 5.3: Plot monthly sales trend"
   ]
  },
  {
   "cell_type": "code",
   "execution_count": null,
   "id": "d72578cf",
   "metadata": {},
   "outputs": [],
   "source": [
    "# Exercise 5.4: Detect monthly outliers in resampled sales using z-score (sigma 2)\n",
    "\n"
   ]
  },
  {
   "cell_type": "code",
   "execution_count": null,
   "id": "9a30b61f",
   "metadata": {},
   "outputs": [],
   "source": [
    "# Exercise 5.5: Plot Time series with outleirs"
   ]
  },
  {
   "cell_type": "markdown",
   "id": "76fd6100",
   "metadata": {},
   "source": [
    "## 6. Feature Engineering\n",
    "Create new useful variables for modeling."
   ]
  },
  {
   "cell_type": "code",
   "execution_count": null,
   "id": "21a23b38",
   "metadata": {},
   "outputs": [],
   "source": [
    "# Exercise 6.1: Add log_sales and profit_per_unit\n",
    "# Hint: For log features use numpy (log1p) \n"
   ]
  },
  {
   "cell_type": "code",
   "execution_count": null,
   "id": "7e78627b",
   "metadata": {},
   "outputs": [],
   "source": [
    "# Exercise 6.2: Create dummies for Region (like one-hot-encoding)\n",
    "# Hint: There is a function that does this\n"
   ]
  },
  {
   "cell_type": "code",
   "execution_count": null,
   "id": "5a1557da",
   "metadata": {},
   "outputs": [],
   "source": [
    "# Exercise 6.3: Automate feature engineering write fuction and use(ratio fretures, unit features, daily rate features (only for monthly))\n"
   ]
  },
  {
   "cell_type": "code",
   "execution_count": null,
   "id": "54cf0e60",
   "metadata": {},
   "outputs": [],
   "source": [
    "import numpy as np\n",
    "\n",
    "# Exercise 6.4: Add more features like sales_to_profit ratio, squared quantity, and log of quantity\n"
   ]
  },
  {
   "cell_type": "markdown",
   "id": "63eecd5c",
   "metadata": {},
   "source": [
    "## 7. Linear Modeling with statsmodels\n",
    "Fit OLS model and evaluate."
   ]
  },
  {
   "cell_type": "code",
   "execution_count": null,
   "id": "ff2b2047",
   "metadata": {},
   "outputs": [],
   "source": [
    "# Exercise 7.1: Predict profit from sales and quantity ( include constant in model)\n",
    "import statsmodels.api as sm\n",
    "# Hint: use OLS and .add_constant"
   ]
  },
  {
   "cell_type": "code",
   "execution_count": null,
   "id": "cd3e87cb",
   "metadata": {},
   "outputs": [],
   "source": [
    "# Exercise 7.2: Plot residuals"
   ]
  },
  {
   "cell_type": "code",
   "execution_count": null,
   "id": "24604e33",
   "metadata": {},
   "outputs": [],
   "source": [
    "# Exercise 7.3: Fit a separate linear model per Category (or subcategory) to predict Profit\n",
    "# Hint: use for loop to interate though categories \n"
   ]
  },
  {
   "cell_type": "markdown",
   "id": "5202ddae",
   "metadata": {},
   "source": [
    "# 8. Additional exercises"
   ]
  },
  {
   "cell_type": "code",
   "execution_count": null,
   "id": "5aad0ac2",
   "metadata": {},
   "outputs": [],
   "source": [
    "# Exercise: Use glob to list all Excel files in a directory\n",
    "# Hint: Function glob in glob package\n",
    "\n"
   ]
  },
  {
   "cell_type": "code",
   "execution_count": null,
   "id": "7cc6cbf8",
   "metadata": {},
   "outputs": [],
   "source": [
    "# Exercise (Optional Advanced): Use ipywidgets to create a dropdown to filter by Region, on selection create pairplot per region\n",
    "# Hint: Use ipywidgets (dropdown and interact)\n",
    "import ipywidgets as widgets\n"
   ]
  }
 ],
 "metadata": {
  "kernelspec": {
   "display_name": "base",
   "language": "python",
   "name": "python3"
  },
  "language_info": {
   "codemirror_mode": {
    "name": "ipython",
    "version": 3
   },
   "file_extension": ".py",
   "mimetype": "text/x-python",
   "name": "python",
   "nbconvert_exporter": "python",
   "pygments_lexer": "ipython3",
   "version": "3.12.10"
  }
 },
 "nbformat": 4,
 "nbformat_minor": 5
}
