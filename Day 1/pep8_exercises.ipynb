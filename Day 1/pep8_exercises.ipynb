{
 "cells": [
  {
   "cell_type": "markdown",
   "id": "e3fd0344",
   "metadata": {},
   "source": [
    "## Exercise 1: Function definition spacing"
   ]
  },
  {
   "cell_type": "code",
   "execution_count": null,
   "id": "19288921",
   "metadata": {},
   "outputs": [],
   "source": [
    "def  add_numbers(a,b):\n",
    " return a+b"
   ]
  },
  {
   "cell_type": "markdown",
   "id": "f6ce3144",
   "metadata": {},
   "source": [
    "## Exercise 2: Variable naming and spacing"
   ]
  },
  {
   "cell_type": "code",
   "execution_count": null,
   "id": "e6564e16",
   "metadata": {},
   "outputs": [],
   "source": [
    "userID = 71 #const\n",
    "\n",
    "MyVariable=10\n",
    "anotherVariable=  20\n",
    "total=MyVariable+anotherVariable\n",
    "\n",
    "print ( total )"
   ]
  },
  {
   "cell_type": "markdown",
   "id": "dfb1056c",
   "metadata": {},
   "source": [
    "## Exercise 3: Line length and indentation"
   ]
  },
  {
   "cell_type": "code",
   "execution_count": null,
   "id": "969bb45d",
   "metadata": {},
   "outputs": [],
   "source": [
    "def long_line_function():\n",
    "    print(\"This is a very long line that goes well beyond the recommended 79 characters and should be wrapped appropriately by the trainee fixing this.\")\n",
    "\n",
    "def badly_indented():\n",
    "  x=10\n",
    "  y = 5\n",
    "  return(x+y)"
   ]
  },
  {
   "cell_type": "markdown",
   "id": "e28e0a67",
   "metadata": {},
   "source": [
    "## Exercise 4: Import formatting"
   ]
  },
  {
   "cell_type": "code",
   "execution_count": null,
   "id": "91abc011",
   "metadata": {},
   "outputs": [],
   "source": [
    "import sys,os,math"
   ]
  },
  {
   "cell_type": "markdown",
   "id": "33f52ffc",
   "metadata": {},
   "source": [
    "## Exercise 5: Mixed quotes and trailing whitespace"
   ]
  },
  {
   "cell_type": "code",
   "execution_count": null,
   "id": "1c77038c",
   "metadata": {},
   "outputs": [],
   "source": [
    "def greet(name):     \n",
    "    return \"Hello, \" + name   "
   ]
  }
 ],
 "metadata": {
  "language_info": {
   "name": "python"
  }
 },
 "nbformat": 4,
 "nbformat_minor": 5
}
