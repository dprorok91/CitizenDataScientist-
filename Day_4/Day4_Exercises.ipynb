{
 "cells": [
  {
   "cell_type": "markdown",
   "id": "0df6c64e",
   "metadata": {},
   "source": [
    "## 1. Loading and Exploring Time Series Data\n",
    "We'll use **sktime** datasets for richer time series analysis."
   ]
  },
  {
   "cell_type": "code",
   "execution_count": null,
   "id": "a86456fc",
   "metadata": {},
   "outputs": [],
   "source": [
    "# TODO: Load airline dataset and display summary\n",
    "# from sktime.datasets import load_airline\n",
    "# df = load_airline()\n",
    "# df.head()"
   ]
  },
  {
   "cell_type": "markdown",
   "id": "68b0e43f",
   "metadata": {},
   "source": [
    "## 2. Simulating and Handling Missing Data\n",
    "We'll create missing values and explore **multiple imputation methods**."
   ]
  },
  {
   "cell_type": "code",
   "execution_count": null,
   "id": "abc7006e",
   "metadata": {},
   "outputs": [],
   "source": [
    "# TODO: Randomly remove 10% of data\n",
    "# Introduce NA values"
   ]
  },
  {
   "cell_type": "code",
   "execution_count": null,
   "id": "c9137b57",
   "metadata": {},
   "outputs": [],
   "source": [
    "# TODO: Impute missing with forward fill and visualize effect"
   ]
  },
  {
   "cell_type": "code",
   "execution_count": null,
   "id": "8e7d6299",
   "metadata": {},
   "outputs": [],
   "source": [
    "# TODO: Impute missing with backward fill and visualize effect"
   ]
  },
  {
   "cell_type": "code",
   "execution_count": null,
   "id": "4b3b529d",
   "metadata": {},
   "outputs": [],
   "source": [
    "# TODO: Impute missing with interpolation"
   ]
  },
  {
   "cell_type": "markdown",
   "id": "a35e6210",
   "metadata": {},
   "source": [
    "## 3. Resampling and Aggregation\n",
    "We'll aggregate monthly data to quarterly."
   ]
  },
  {
   "cell_type": "code",
   "execution_count": null,
   "id": "6361240b",
   "metadata": {},
   "outputs": [],
   "source": [
    "# TODO: Resample with sum and mean"
   ]
  },
  {
   "cell_type": "markdown",
   "id": "ed32317e",
   "metadata": {},
   "source": [
    "## 4. Decomposition\n",
    "Split data into trend, seasonality, residuals using sktime."
   ]
  },
  {
   "cell_type": "code",
   "execution_count": null,
   "id": "956bbd0c",
   "metadata": {},
   "outputs": [],
   "source": [
    "# TODO: Use sktime's STLTransformer"
   ]
  },
  {
   "cell_type": "markdown",
   "id": "a81bd003",
   "metadata": {},
   "source": [
    "## 5. Forecasting with sktime Models\n",
    "Fit multiple forecasting models and compare."
   ]
  },
  {
   "cell_type": "code",
   "execution_count": null,
   "id": "7cf4afcb",
   "metadata": {},
   "outputs": [],
   "source": [
    "# TODO: Fit NaiveForecaster"
   ]
  },
  {
   "cell_type": "code",
   "execution_count": null,
   "id": "08cc747b",
   "metadata": {},
   "outputs": [],
   "source": [
    "# TODO: Fit Exponential Smoothing"
   ]
  },
  {
   "cell_type": "code",
   "execution_count": null,
   "id": "7f28d79d",
   "metadata": {},
   "outputs": [],
   "source": [
    "# TODO: Plot forecasts vs actuals"
   ]
  },
  {
   "cell_type": "markdown",
   "id": "2416fcfe",
   "metadata": {},
   "source": [
    "## 6. Evaluation\n",
    "Compute metrics for both models."
   ]
  },
  {
   "cell_type": "code",
   "execution_count": null,
   "id": "e2c91b84",
   "metadata": {},
   "outputs": [],
   "source": [
    "# TODO: Compute MAE and MAPE for both forecasts"
   ]
  }
 ],
 "metadata": {},
 "nbformat": 4,
 "nbformat_minor": 5
}
