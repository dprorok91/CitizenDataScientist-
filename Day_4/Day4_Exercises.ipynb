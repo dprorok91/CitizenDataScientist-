{
 "cells": [
  {
   "cell_type": "markdown",
   "id": "0df6c64e",
   "metadata": {},
   "source": [
    "## 1. Loading and Exploring Time Series Data\n",
    "We'll use **sktime** datasets for richer time series analysis."
   ]
  },
  {
   "cell_type": "code",
   "execution_count": null,
   "id": "a86456fc",
   "metadata": {},
   "outputs": [],
   "source": [
    "# TODO: Load airline dataset and display summary\n",
    "# from sktime.datasets import load_airline\n",
    "# df = load_airline()\n",
    "# df.head()"
   ]
  },
  {
   "cell_type": "markdown",
   "id": "68b0e43f",
   "metadata": {},
   "source": [
    "## 2. Simulating and Handling Missing Data\n",
    "We'll create missing values and explore **multiple imputation methods**."
   ]
  },
  {
   "cell_type": "code",
   "execution_count": null,
   "id": "abc7006e",
   "metadata": {},
   "outputs": [],
   "source": [
    "# TODO: Randomly remove 10% of data\n",
    "# Introduce NA values"
   ]
  },
  {
   "cell_type": "code",
   "execution_count": null,
   "id": "c9137b57",
   "metadata": {},
   "outputs": [],
   "source": [
    "# TODO: Impute missing with forward fill and visualize effect"
   ]
  },
  {
   "cell_type": "code",
   "execution_count": null,
   "id": "8e7d6299",
   "metadata": {},
   "outputs": [],
   "source": [
    "# TODO: Impute missing with backward fill and visualize effect"
   ]
  },
  {
   "cell_type": "code",
   "execution_count": null,
   "id": "4b3b529d",
   "metadata": {},
   "outputs": [],
   "source": [
    "# TODO: Impute missing with interpolation"
   ]
  },
  {
   "cell_type": "markdown",
   "id": "a35e6210",
   "metadata": {},
   "source": [
    "## 3. Resampling and Aggregation\n",
    "We'll aggregate monthly data to quarterly."
   ]
  },
  {
   "cell_type": "code",
   "execution_count": null,
   "id": "6361240b",
   "metadata": {},
   "outputs": [],
   "source": [
    "# TODO: Resample with sum and mean"
   ]
  },
  {
   "cell_type": "markdown",
   "id": "ed32317e",
   "metadata": {},
   "source": [
    "## 4. Decomposition\n",
    "Split data into trend, seasonality, residuals using sktime."
   ]
  },
  {
   "cell_type": "code",
   "execution_count": null,
   "id": "956bbd0c",
   "metadata": {},
   "outputs": [],
   "source": [
    "# TODO: Use sktime's STLTransformer"
   ]
  },
  {
   "cell_type": "markdown",
   "id": "34f422cd",
   "metadata": {},
   "source": [
    "## 5. Outlier Detection\n",
    "Identify outliers using z-scores and the Hampel filter."
   ]
  },
  {
   "cell_type": "code",
   "execution_count": null,
   "id": "faf8f17e",
   "metadata": {},
   "outputs": [],
   "source": [
    "# from scipy.stats import zscore\n"
   ]
  },
  {
   "cell_type": "code",
   "execution_count": null,
   "id": "5b87b385",
   "metadata": {},
   "outputs": [],
   "source": [
    "#use defined function\n",
    "def hampel(series, window_size=7, n_sigmas=3):\n",
    "    k = 1.4826  # scale factor for Gaussian distribution\n",
    "    new_series = series.copy()\n",
    "    rolling_median = series.rolling(window=2*window_size, center=True).median()\n",
    "    MAD = lambda x: np.median(np.abs(x - np.median(x)))\n",
    "    rolling_mad = series.rolling(window=2*window_size, center=True).apply(MAD)\n",
    "    threshold = n_sigmas * k * rolling_mad\n",
    "    diff = np.abs(series - rolling_median)\n",
    "    outlier_idx = diff > threshold\n",
    "    return outlier_idx"
   ]
  },
  {
   "cell_type": "code",
   "execution_count": null,
   "id": "854813a6",
   "metadata": {},
   "outputs": [],
   "source": [
    "#use those filters on the decomposed data (seasonal, residue, trend)"
   ]
  }
 ],
 "metadata": {
  "language_info": {
   "name": "python"
  }
 },
 "nbformat": 4,
 "nbformat_minor": 5
}
