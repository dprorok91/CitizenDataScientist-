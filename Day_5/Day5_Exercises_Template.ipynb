{
 "cells": [
  {
   "cell_type": "markdown",
   "id": "9d2ebb41",
   "metadata": {},
   "source": [
    "## 1. Loading and Preparing Data\n",
    "We will use the Airline dataset and prepare it for modeling."
   ]
  },
  {
   "cell_type": "code",
   "execution_count": null,
   "id": "84e3f471",
   "metadata": {},
   "outputs": [],
   "source": [
    "# TODO: Load the airline dataset and convert to DataFrame with DatetimeIndex."
   ]
  },
  {
   "cell_type": "markdown",
   "id": "d5ef145b",
   "metadata": {},
   "source": [
    "## 2. Train-Test Splitting Strategies\n",
    "We will explore temporal splits, expanding and sliding windows."
   ]
  },
  {
   "cell_type": "code",
   "execution_count": null,
   "id": "6276ede1",
   "metadata": {},
   "outputs": [],
   "source": [
    "# TODO: Create train/test split using temporal_train_test_split."
   ]
  },
  {
   "cell_type": "code",
   "execution_count": null,
   "id": "1cd5e401",
   "metadata": {},
   "outputs": [],
   "source": [
    "# TODO: Show train/test indices using SlidingWindowSplitter and ExpandingWindowSplitter."
   ]
  },
  {
   "cell_type": "markdown",
   "id": "42589cd5",
   "metadata": {},
   "source": [
    "## 3. Benchmark Forecasting Models\n",
    "We will train naive and exponential smoothing models."
   ]
  },
  {
   "cell_type": "code",
   "execution_count": null,
   "id": "3cf0e13e",
   "metadata": {},
   "outputs": [],
   "source": [
    "# TODO: Fit NaiveForecaster with last observation."
   ]
  },
  {
   "cell_type": "code",
   "execution_count": null,
   "id": "700211d0",
   "metadata": {},
   "outputs": [],
   "source": [
    "# TODO: Fit Simple Exponential Smoothing."
   ]
  },
  {
   "cell_type": "code",
   "execution_count": null,
   "id": "b918023c",
   "metadata": {},
   "outputs": [],
   "source": [
    "# TODO: Plot forecasts."
   ]
  },
  {
   "cell_type": "markdown",
   "id": "c3837419",
   "metadata": {},
   "source": [
    "## 4. Evaluation\n",
    "We will compute error metrics."
   ]
  },
  {
   "cell_type": "code",
   "execution_count": null,
   "id": "7def7fa6",
   "metadata": {},
   "outputs": [],
   "source": [
    "# TODO: Compute MAE and MAPE."
   ]
  },
  {
   "cell_type": "markdown",
   "id": "0611752f",
   "metadata": {},
   "source": [
    "## 5. Grid Search as Ensemble\n",
    "We will tune parameters using GridSearchCV and discuss overfitting."
   ]
  },
  {
   "cell_type": "code",
   "execution_count": null,
   "id": "e8793823",
   "metadata": {},
   "outputs": [],
   "source": [
    "# TODO: Use ForecastingGridSearchCV to search smoothing parameters."
   ]
  },
  {
   "cell_type": "code",
   "execution_count": null,
   "id": "967cc89a",
   "metadata": {},
   "outputs": [],
   "source": [
    "# TODO: Predict with best estimator."
   ]
  }
 ],
 "metadata": {},
 "nbformat": 4,
 "nbformat_minor": 5
}
